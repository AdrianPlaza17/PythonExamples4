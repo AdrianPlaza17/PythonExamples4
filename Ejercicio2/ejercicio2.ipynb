{
 "cells": [
  {
   "cell_type": "markdown",
   "id": "4582c5a1",
   "metadata": {},
   "source": [
    "Selecciona una web en donde tengamos un formulario de login\n",
    "\n",
    "Diseña un código en Python para acceder al login y obtener código 200 en el login\n",
    "\n",
    "Explica qué code status responde la petición y qué significa"
   ]
  },
  {
   "cell_type": "code",
   "execution_count": 3,
   "id": "a0f55ff7",
   "metadata": {},
   "outputs": [
    {
     "name": "stdout",
     "output_type": "stream",
     "text": [
      "<Response [200]>\n",
      "Response OK\n",
      "200\n"
     ]
    }
   ],
   "source": [
    "import requests\n",
    "\n",
    "res = requests.get('https://www.twitch.tv/')\n",
    "\n",
    "print(res)\n",
    "\n",
    "if res:\n",
    "    print('Response OK')\n",
    "else:\n",
    "    print('Response Failed')\n",
    "    \n",
    "print(res.status_code)"
   ]
  },
  {
   "cell_type": "markdown",
   "id": "fd1316e6",
   "metadata": {},
   "source": [
    " Los códigos HTTP van de “1XX” a “5XX”. Los códigos de estado mas frecuentes son “200”, “404” y “500”.\n",
    " \n",
    "200: éxito\n",
    "\n",
    "404: error del cliente\n",
    "\n",
    "500: error del servidor"
   ]
  },
  {
   "cell_type": "code",
   "execution_count": null,
   "id": "9cbb84a8",
   "metadata": {},
   "outputs": [],
   "source": []
  }
 ],
 "metadata": {
  "kernelspec": {
   "display_name": "Python 3 (ipykernel)",
   "language": "python",
   "name": "python3"
  },
  "language_info": {
   "codemirror_mode": {
    "name": "ipython",
    "version": 3
   },
   "file_extension": ".py",
   "mimetype": "text/x-python",
   "name": "python",
   "nbconvert_exporter": "python",
   "pygments_lexer": "ipython3",
   "version": "3.9.7"
  }
 },
 "nbformat": 4,
 "nbformat_minor": 5
}
